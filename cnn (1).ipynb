{
  "nbformat": 4,
  "nbformat_minor": 0,
  "metadata": {
    "colab": {
      "name": "cnn",
      "provenance": [],
      "collapsed_sections": []
    },
    "kernelspec": {
      "name": "python3",
      "display_name": "Python 3"
    }
  },
  "cells": [
    {
      "cell_type": "code",
      "metadata": {
        "id": "FycSrMbUMXQn",
        "colab_type": "code",
        "colab": {
          "base_uri": "https://localhost:8080/",
          "height": 54
        },
        "outputId": "38a5b94e-5b5a-4eda-be60-e93b5d36e639"
      },
      "source": [
        "from google.colab import drive\n",
        "drive.mount('/content/drive')"
      ],
      "execution_count": 77,
      "outputs": [
        {
          "output_type": "stream",
          "text": [
            "Drive already mounted at /content/drive; to attempt to forcibly remount, call drive.mount(\"/content/drive\", force_remount=True).\n"
          ],
          "name": "stdout"
        }
      ]
    },
    {
      "cell_type": "code",
      "metadata": {
        "id": "xn4SxBNfPiSr",
        "colab_type": "code",
        "colab": {}
      },
      "source": [
        "import keras"
      ],
      "execution_count": 78,
      "outputs": []
    },
    {
      "cell_type": "code",
      "metadata": {
        "id": "bE9uKznEPn5d",
        "colab_type": "code",
        "colab": {}
      },
      "source": [
        "from tensorflow.keras.layers import Input, Lambda, Dense, Flatten,Conv2D\n",
        "from tensorflow.keras.models import Model\n",
        "from tensorflow.keras.applications.vgg19 import VGG19\n",
        "from tensorflow.keras.applications.resnet50 import preprocess_input\n",
        "from tensorflow.keras.preprocessing import image\n",
        "from tensorflow.keras.preprocessing.image import ImageDataGenerator,load_img\n",
        "from tensorflow.keras.models import Sequential\n",
        "import numpy as np\n",
        "from glob import glob\n",
        "import matplotlib.pyplot as plt"
      ],
      "execution_count": 79,
      "outputs": []
    },
    {
      "cell_type": "code",
      "metadata": {
        "id": "Z9AfpsYJTrQg",
        "colab_type": "code",
        "colab": {}
      },
      "source": [
        "# re-size all the images to this\n",
        "IMAGE_SIZE = [224, 224]\n",
        "\n",
        "train_path = '/content/drive/My Drive/Colab Notebooks/train'\n",
        "valid_path = '/content/drive/My Drive/Colab Notebooks/test1'"
      ],
      "execution_count": 81,
      "outputs": []
    },
    {
      "cell_type": "code",
      "metadata": {
        "id": "MEnW93JBU_xn",
        "colab_type": "code",
        "colab": {}
      },
      "source": [
        "# Import the Vgg 16 library as shown below and add preprocessing layer to the front of VGG\n",
        "# Here we will be using imagenet weights\n",
        "\n",
        "mobilnet = VGG19(input_shape=IMAGE_SIZE + [3], weights='imagenet', include_top=False)"
      ],
      "execution_count": 82,
      "outputs": []
    },
    {
      "cell_type": "code",
      "metadata": {
        "id": "eIdY5RQeYS32",
        "colab_type": "code",
        "colab": {}
      },
      "source": [
        "# don't train existing weights\n",
        "for layer in mobilnet.layers:\n",
        "    layer.trainable = False"
      ],
      "execution_count": 83,
      "outputs": []
    },
    {
      "cell_type": "code",
      "metadata": {
        "id": "NaVSP08nZo96",
        "colab_type": "code",
        "colab": {}
      },
      "source": [
        "# useful for getting number of output classes\n",
        "folders = glob('/content/drive/My Drive/Colab Notebooks/train/*')"
      ],
      "execution_count": 84,
      "outputs": []
    },
    {
      "cell_type": "code",
      "metadata": {
        "id": "e8nLLwJtqmys",
        "colab_type": "code",
        "colab": {
          "base_uri": "https://localhost:8080/",
          "height": 84
        },
        "outputId": "75038d05-3dc4-4251-e6bc-f9f32476ec39"
      },
      "source": [
        "folders"
      ],
      "execution_count": 85,
      "outputs": [
        {
          "output_type": "execute_result",
          "data": {
            "text/plain": [
              "['/content/drive/My Drive/Colab Notebooks/train/category 4',\n",
              " '/content/drive/My Drive/Colab Notebooks/train/category 2',\n",
              " '/content/drive/My Drive/Colab Notebooks/train/category 1',\n",
              " '/content/drive/My Drive/Colab Notebooks/train/category 3']"
            ]
          },
          "metadata": {
            "tags": []
          },
          "execution_count": 85
        }
      ]
    },
    {
      "cell_type": "code",
      "metadata": {
        "id": "4t-6-qEYqtM4",
        "colab_type": "code",
        "colab": {}
      },
      "source": [
        "# our layers - you can add more if you want\n",
        "x = Flatten()(mobilnet.output)"
      ],
      "execution_count": 86,
      "outputs": []
    },
    {
      "cell_type": "code",
      "metadata": {
        "id": "JZY0wQidrDfE",
        "colab_type": "code",
        "colab": {}
      },
      "source": [
        "prediction = Dense(len(folders), activation='softmax')(x)\n",
        "\n",
        "# create a model object\n",
        "model = Model(inputs=mobilnet.input, outputs=prediction)"
      ],
      "execution_count": 87,
      "outputs": []
    },
    {
      "cell_type": "code",
      "metadata": {
        "id": "isaQq_xOrQYq",
        "colab_type": "code",
        "colab": {
          "base_uri": "https://localhost:8080/",
          "height": 958
        },
        "outputId": "051a7b02-f80b-43a7-d9ad-1f318bfa5e36"
      },
      "source": [
        "\n",
        "# view the structure of the model\n",
        "model.summary()"
      ],
      "execution_count": 88,
      "outputs": [
        {
          "output_type": "stream",
          "text": [
            "Model: \"model_2\"\n",
            "_________________________________________________________________\n",
            "Layer (type)                 Output Shape              Param #   \n",
            "=================================================================\n",
            "input_3 (InputLayer)         [(None, 224, 224, 3)]     0         \n",
            "_________________________________________________________________\n",
            "block1_conv1 (Conv2D)        (None, 224, 224, 64)      1792      \n",
            "_________________________________________________________________\n",
            "block1_conv2 (Conv2D)        (None, 224, 224, 64)      36928     \n",
            "_________________________________________________________________\n",
            "block1_pool (MaxPooling2D)   (None, 112, 112, 64)      0         \n",
            "_________________________________________________________________\n",
            "block2_conv1 (Conv2D)        (None, 112, 112, 128)     73856     \n",
            "_________________________________________________________________\n",
            "block2_conv2 (Conv2D)        (None, 112, 112, 128)     147584    \n",
            "_________________________________________________________________\n",
            "block2_pool (MaxPooling2D)   (None, 56, 56, 128)       0         \n",
            "_________________________________________________________________\n",
            "block3_conv1 (Conv2D)        (None, 56, 56, 256)       295168    \n",
            "_________________________________________________________________\n",
            "block3_conv2 (Conv2D)        (None, 56, 56, 256)       590080    \n",
            "_________________________________________________________________\n",
            "block3_conv3 (Conv2D)        (None, 56, 56, 256)       590080    \n",
            "_________________________________________________________________\n",
            "block3_conv4 (Conv2D)        (None, 56, 56, 256)       590080    \n",
            "_________________________________________________________________\n",
            "block3_pool (MaxPooling2D)   (None, 28, 28, 256)       0         \n",
            "_________________________________________________________________\n",
            "block4_conv1 (Conv2D)        (None, 28, 28, 512)       1180160   \n",
            "_________________________________________________________________\n",
            "block4_conv2 (Conv2D)        (None, 28, 28, 512)       2359808   \n",
            "_________________________________________________________________\n",
            "block4_conv3 (Conv2D)        (None, 28, 28, 512)       2359808   \n",
            "_________________________________________________________________\n",
            "block4_conv4 (Conv2D)        (None, 28, 28, 512)       2359808   \n",
            "_________________________________________________________________\n",
            "block4_pool (MaxPooling2D)   (None, 14, 14, 512)       0         \n",
            "_________________________________________________________________\n",
            "block5_conv1 (Conv2D)        (None, 14, 14, 512)       2359808   \n",
            "_________________________________________________________________\n",
            "block5_conv2 (Conv2D)        (None, 14, 14, 512)       2359808   \n",
            "_________________________________________________________________\n",
            "block5_conv3 (Conv2D)        (None, 14, 14, 512)       2359808   \n",
            "_________________________________________________________________\n",
            "block5_conv4 (Conv2D)        (None, 14, 14, 512)       2359808   \n",
            "_________________________________________________________________\n",
            "block5_pool (MaxPooling2D)   (None, 7, 7, 512)         0         \n",
            "_________________________________________________________________\n",
            "flatten_4 (Flatten)          (None, 25088)             0         \n",
            "_________________________________________________________________\n",
            "dense_6 (Dense)              (None, 4)                 100356    \n",
            "=================================================================\n",
            "Total params: 20,124,740\n",
            "Trainable params: 100,356\n",
            "Non-trainable params: 20,024,384\n",
            "_________________________________________________________________\n"
          ],
          "name": "stdout"
        }
      ]
    },
    {
      "cell_type": "code",
      "metadata": {
        "id": "WvE9fTs5rXYN",
        "colab_type": "code",
        "colab": {}
      },
      "source": [
        "\n",
        "from tensorflow.keras.layers import MaxPooling2D"
      ],
      "execution_count": 89,
      "outputs": []
    },
    {
      "cell_type": "code",
      "metadata": {
        "id": "Wz8L3ip9rknf",
        "colab_type": "code",
        "colab": {
          "base_uri": "https://localhost:8080/",
          "height": 454
        },
        "outputId": "f4826018-b72f-417f-a1c3-52fcfcec7af4"
      },
      "source": [
        "## Create Model from scratch using CNN\n",
        "model=Sequential()\n",
        "model.add(Conv2D(filters=16,kernel_size=2,padding=\"same\",activation=\"relu\",input_shape=(224,224,3)))\n",
        "model.add(MaxPooling2D(pool_size=2))\n",
        "model.add(Conv2D(filters=32,kernel_size=2,padding=\"same\",activation =\"relu\"))\n",
        "model.add(MaxPooling2D(pool_size=2))\n",
        "model.add(Conv2D(filters=64,kernel_size=2,padding=\"same\",activation=\"relu\"))\n",
        "model.add(MaxPooling2D(pool_size=2))\n",
        "model.add(Flatten())\n",
        "model.add(Dense(500,activation=\"relu\"))\n",
        "model.add(Dense(4,activation=\"softmax\"))\n",
        "model.summary()"
      ],
      "execution_count": 90,
      "outputs": [
        {
          "output_type": "stream",
          "text": [
            "Model: \"sequential_2\"\n",
            "_________________________________________________________________\n",
            "Layer (type)                 Output Shape              Param #   \n",
            "=================================================================\n",
            "conv2d_6 (Conv2D)            (None, 224, 224, 16)      208       \n",
            "_________________________________________________________________\n",
            "max_pooling2d_6 (MaxPooling2 (None, 112, 112, 16)      0         \n",
            "_________________________________________________________________\n",
            "conv2d_7 (Conv2D)            (None, 112, 112, 32)      2080      \n",
            "_________________________________________________________________\n",
            "max_pooling2d_7 (MaxPooling2 (None, 56, 56, 32)        0         \n",
            "_________________________________________________________________\n",
            "conv2d_8 (Conv2D)            (None, 56, 56, 64)        8256      \n",
            "_________________________________________________________________\n",
            "max_pooling2d_8 (MaxPooling2 (None, 28, 28, 64)        0         \n",
            "_________________________________________________________________\n",
            "flatten_5 (Flatten)          (None, 50176)             0         \n",
            "_________________________________________________________________\n",
            "dense_7 (Dense)              (None, 500)               25088500  \n",
            "_________________________________________________________________\n",
            "dense_8 (Dense)              (None, 4)                 2004      \n",
            "=================================================================\n",
            "Total params: 25,101,048\n",
            "Trainable params: 25,101,048\n",
            "Non-trainable params: 0\n",
            "_________________________________________________________________\n"
          ],
          "name": "stdout"
        }
      ]
    },
    {
      "cell_type": "code",
      "metadata": {
        "id": "kNwSc-7NtmxQ",
        "colab_type": "code",
        "colab": {}
      },
      "source": [
        "\n",
        "# tell the model what cost and optimization method to use\n",
        "model.compile(\n",
        "  loss='categorical_crossentropy',\n",
        "  optimizer='adam',\n",
        "  metrics=['accuracy']\n",
        ")"
      ],
      "execution_count": 91,
      "outputs": []
    },
    {
      "cell_type": "code",
      "metadata": {
        "id": "bW1wYnf6tvDf",
        "colab_type": "code",
        "colab": {}
      },
      "source": [
        "# Use the Image Data Generator to import the images from the dataset\n",
        "from tensorflow.keras.preprocessing.image import ImageDataGenerator\n",
        "\n",
        "train_datagen = ImageDataGenerator(rescale = 1./255,\n",
        "                                   shear_range = 0.2,\n",
        "                                   zoom_range = 0.2,\n",
        "                                   horizontal_flip = True)\n",
        "\n",
        "test_datagen = ImageDataGenerator(rescale = 1./255)"
      ],
      "execution_count": 92,
      "outputs": []
    },
    {
      "cell_type": "code",
      "metadata": {
        "id": "QybUCQc4uAZm",
        "colab_type": "code",
        "colab": {
          "base_uri": "https://localhost:8080/",
          "height": 34
        },
        "outputId": "c7a6a662-6e14-438a-a9b4-61fcd48510dc"
      },
      "source": [
        "# Make sure you provide the same target size as initialied for the image size\n",
        "training_set = train_datagen.flow_from_directory('/content/drive/My Drive/Colab Notebooks/train',\n",
        "                                                 target_size = (224, 224),\n",
        "                                                 batch_size = 32,\n",
        "                                                 class_mode = 'categorical')"
      ],
      "execution_count": 93,
      "outputs": [
        {
          "output_type": "stream",
          "text": [
            "Found 440 images belonging to 4 classes.\n"
          ],
          "name": "stdout"
        }
      ]
    },
    {
      "cell_type": "code",
      "metadata": {
        "id": "kAoiXCp8vCcF",
        "colab_type": "code",
        "colab": {
          "base_uri": "https://localhost:8080/",
          "height": 34
        },
        "outputId": "a156e606-d24c-436c-9957-778ae970521b"
      },
      "source": [
        "training_set\n"
      ],
      "execution_count": 94,
      "outputs": [
        {
          "output_type": "execute_result",
          "data": {
            "text/plain": [
              "<keras_preprocessing.image.directory_iterator.DirectoryIterator at 0x7f9b8cc4f080>"
            ]
          },
          "metadata": {
            "tags": []
          },
          "execution_count": 94
        }
      ]
    },
    {
      "cell_type": "code",
      "metadata": {
        "id": "4H8Tj02kvHYj",
        "colab_type": "code",
        "colab": {
          "base_uri": "https://localhost:8080/",
          "height": 34
        },
        "outputId": "c0754d9a-f73f-473f-83b9-b4418cc8e2eb"
      },
      "source": [
        "\n",
        "test_set = test_datagen.flow_from_directory('/content/drive/My Drive/Colab Notebooks/test1',\n",
        "                                            target_size = (224, 224),\n",
        "                                            batch_size = 32,\n",
        "                                            class_mode = 'categorical')"
      ],
      "execution_count": 95,
      "outputs": [
        {
          "output_type": "stream",
          "text": [
            "Found 30 images belonging to 4 classes.\n"
          ],
          "name": "stdout"
        }
      ]
    },
    {
      "cell_type": "code",
      "metadata": {
        "id": "JlMKbzcdvX1j",
        "colab_type": "code",
        "colab": {
          "base_uri": "https://localhost:8080/",
          "height": 709
        },
        "outputId": "fd9634da-6ad2-4155-8973-f29a6b261c68"
      },
      "source": [
        "# fit the model\n",
        "# Run the cell. It will take some time to execute\n",
        "r = model.fit_generator(\n",
        "  training_set,\n",
        "  validation_data=test_set,\n",
        "  epochs=20,\n",
        "  steps_per_epoch=len(training_set),\n",
        "  validation_steps=len(test_set)\n",
        ")"
      ],
      "execution_count": 96,
      "outputs": [
        {
          "output_type": "stream",
          "text": [
            "Epoch 1/20\n",
            "14/14 [==============================] - 41s 3s/step - loss: 3.9343 - accuracy: 0.4114 - val_loss: 1.8242 - val_accuracy: 0.5333\n",
            "Epoch 2/20\n",
            "14/14 [==============================] - 23s 2s/step - loss: 0.8924 - accuracy: 0.6523 - val_loss: 2.8112 - val_accuracy: 0.1667\n",
            "Epoch 3/20\n",
            "14/14 [==============================] - 22s 2s/step - loss: 0.4111 - accuracy: 0.8705 - val_loss: 6.3948 - val_accuracy: 0.1667\n",
            "Epoch 4/20\n",
            "14/14 [==============================] - 23s 2s/step - loss: 0.2690 - accuracy: 0.8841 - val_loss: 7.8861 - val_accuracy: 0.1667\n",
            "Epoch 5/20\n",
            "14/14 [==============================] - 22s 2s/step - loss: 0.1960 - accuracy: 0.9364 - val_loss: 8.8078 - val_accuracy: 0.1667\n",
            "Epoch 6/20\n",
            "14/14 [==============================] - 22s 2s/step - loss: 0.1516 - accuracy: 0.9500 - val_loss: 8.6064 - val_accuracy: 0.1667\n",
            "Epoch 7/20\n",
            "14/14 [==============================] - 22s 2s/step - loss: 0.1273 - accuracy: 0.9477 - val_loss: 9.2869 - val_accuracy: 0.1667\n",
            "Epoch 8/20\n",
            "14/14 [==============================] - 23s 2s/step - loss: 0.0848 - accuracy: 0.9682 - val_loss: 9.9719 - val_accuracy: 0.1667\n",
            "Epoch 9/20\n",
            "14/14 [==============================] - 23s 2s/step - loss: 0.0715 - accuracy: 0.9727 - val_loss: 11.6860 - val_accuracy: 0.1667\n",
            "Epoch 10/20\n",
            "14/14 [==============================] - 22s 2s/step - loss: 0.0661 - accuracy: 0.9727 - val_loss: 11.8639 - val_accuracy: 0.1667\n",
            "Epoch 11/20\n",
            "14/14 [==============================] - 23s 2s/step - loss: 0.0520 - accuracy: 0.9886 - val_loss: 12.1284 - val_accuracy: 0.1667\n",
            "Epoch 12/20\n",
            "14/14 [==============================] - 23s 2s/step - loss: 0.0460 - accuracy: 0.9841 - val_loss: 12.2480 - val_accuracy: 0.1667\n",
            "Epoch 13/20\n",
            "14/14 [==============================] - 23s 2s/step - loss: 0.0565 - accuracy: 0.9818 - val_loss: 13.1899 - val_accuracy: 0.1667\n",
            "Epoch 14/20\n",
            "14/14 [==============================] - 22s 2s/step - loss: 0.0425 - accuracy: 0.9886 - val_loss: 12.1497 - val_accuracy: 0.1667\n",
            "Epoch 15/20\n",
            "14/14 [==============================] - 22s 2s/step - loss: 0.0346 - accuracy: 0.9886 - val_loss: 12.3479 - val_accuracy: 0.1667\n",
            "Epoch 16/20\n",
            "14/14 [==============================] - 23s 2s/step - loss: 0.0318 - accuracy: 0.9909 - val_loss: 13.3122 - val_accuracy: 0.1667\n",
            "Epoch 17/20\n",
            "14/14 [==============================] - 23s 2s/step - loss: 0.0269 - accuracy: 0.9932 - val_loss: 13.2543 - val_accuracy: 0.1667\n",
            "Epoch 18/20\n",
            "14/14 [==============================] - 24s 2s/step - loss: 0.0166 - accuracy: 0.9977 - val_loss: 12.8449 - val_accuracy: 0.1667\n",
            "Epoch 19/20\n",
            "14/14 [==============================] - 23s 2s/step - loss: 0.0100 - accuracy: 0.9977 - val_loss: 14.6067 - val_accuracy: 0.1667\n",
            "Epoch 20/20\n",
            "14/14 [==============================] - 22s 2s/step - loss: 0.0069 - accuracy: 1.0000 - val_loss: 15.0870 - val_accuracy: 0.1667\n"
          ],
          "name": "stdout"
        }
      ]
    },
    {
      "cell_type": "code",
      "metadata": {
        "id": "Jv3XV4_XwJlz",
        "colab_type": "code",
        "colab": {
          "base_uri": "https://localhost:8080/",
          "height": 530
        },
        "outputId": "5809b77a-8f4e-4462-9097-8efd18434018"
      },
      "source": [
        "# plot the loss\n",
        "plt.plot(r.history['loss'], label='train loss')\n",
        "plt.plot(r.history['loss'], label='val loss')\n",
        "plt.legend()\n",
        "plt.show()\n",
        "plt.savefig('LossVal_loss')\n",
        "\n",
        "# plot the accuracy\n",
        "plt.plot(r.history['accuracy'], label='train acc')\n",
        "plt.plot(r.history['accuracy'], label='val acc')\n",
        "plt.legend()\n",
        "plt.show()\n",
        "plt.savefig('AccVal_acc')"
      ],
      "execution_count": 97,
      "outputs": [
        {
          "output_type": "display_data",
          "data": {
            "image/png": "[encoded data removed]",
            "text/plain": [
              "<Figure size 432x288 with 1 Axes>"
            ]
          },
          "metadata": {
            "tags": [],
            "needs_background": "light"
          }
        },
        {
          "output_type": "display_data",
          "data": {
            "image/png": "[encoded data removed]",
            "text/plain": [
              "<Figure size 432x288 with 1 Axes>"
            ]
          },
          "metadata": {
            "tags": [],
            "needs_background": "light"
          }
        },
        {
          "output_type": "display_data",
          "data": {
            "text/plain": [
              "<Figure size 432x288 with 0 Axes>"
            ]
          },
          "metadata": {
            "tags": []
          }
        }
      ]
    },
    {
      "cell_type": "code",
      "metadata": {
        "id": "h2x_6aH9yYRT",
        "colab_type": "code",
        "colab": {
          "base_uri": "https://localhost:8080/",
          "height": 104
        },
        "outputId": "450553ca-c506-4c0e-eb2c-9899bcdb7e1e"
      },
      "source": [
        "# save it as a h5 file\n",
        "\n",
        "\n",
        "from tensorflow.keras.models import load_model\n",
        "\n",
        "model.save('model_vgg19.h6')"
      ],
      "execution_count": 98,
      "outputs": [
        {
          "output_type": "stream",
          "text": [
            "WARNING:tensorflow:From /usr/local/lib/python3.6/dist-packages/tensorflow/python/ops/resource_variable_ops.py:1817: calling BaseResourceVariable.__init__ (from tensorflow.python.ops.resource_variable_ops) with constraint is deprecated and will be removed in a future version.\n",
            "Instructions for updating:\n",
            "If using Keras pass *_constraint arguments to layers.\n",
            "INFO:tensorflow:Assets written to: model_vgg19.h6/assets\n"
          ],
          "name": "stdout"
        }
      ]
    },
    {
      "cell_type": "code",
      "metadata": {
        "id": "DnTZf31UyZsx",
        "colab_type": "code",
        "colab": {}
      },
      "source": [
        "\n",
        "y_pred = model.predict(test_set)"
      ],
      "execution_count": 99,
      "outputs": []
    },
    {
      "cell_type": "code",
      "metadata": {
        "id": "sLfQvHgFyduW",
        "colab_type": "code",
        "colab": {
          "base_uri": "https://localhost:8080/",
          "height": 538
        },
        "outputId": "78d41918-84bf-4653-eb4d-c51093ddc16e"
      },
      "source": [
        "y_pred"
      ],
      "execution_count": 100,
      "outputs": [
        {
          "output_type": "execute_result",
          "data": {
            "text/plain": [
              "array([[7.56452607e-07, 1.93138112e-05, 9.99978542e-01, 1.43900650e-06],\n",
              "       [5.19690647e-23, 1.00000000e+00, 1.04684198e-12, 5.67899194e-09],\n",
              "       [1.34282742e-14, 1.90812170e-05, 7.95328603e-08, 9.99980807e-01],\n",
              "       [2.05614857e-19, 9.99999881e-01, 1.29942279e-09, 9.55230206e-08],\n",
              "       [9.99953151e-01, 4.50553796e-11, 4.68307117e-05, 4.22592433e-10],\n",
              "       [2.39735369e-13, 2.25082908e-06, 1.07626185e-07, 9.99997616e-01],\n",
              "       [2.39735369e-13, 2.25082908e-06, 1.07626185e-07, 9.99997616e-01],\n",
              "       [1.32592470e-06, 5.83595806e-07, 9.99997139e-01, 9.18151272e-07],\n",
              "       [7.77476040e-26, 1.00000000e+00, 2.44732433e-14, 6.69178385e-12],\n",
              "       [1.80415239e-03, 1.41310565e-07, 9.98194158e-01, 1.53092969e-06],\n",
              "       [3.58828947e-05, 1.56614460e-05, 9.99947190e-01, 1.32847833e-06],\n",
              "       [3.65112633e-08, 3.48134705e-07, 9.99999642e-01, 7.82325849e-09],\n",
              "       [9.47785036e-13, 1.54825523e-06, 5.71216219e-07, 9.99997854e-01],\n",
              "       [3.60231944e-23, 1.00000000e+00, 2.60593467e-13, 1.30395639e-09],\n",
              "       [1.20764909e-07, 1.23122425e-06, 9.99998450e-01, 2.64789549e-07],\n",
              "       [1.20764909e-07, 1.23122425e-06, 9.99998450e-01, 2.64789549e-07],\n",
              "       [9.93665099e-01, 2.20246577e-08, 6.33489247e-03, 1.88923654e-09],\n",
              "       [9.99751508e-01, 1.53173529e-10, 2.48545781e-04, 1.14597065e-09],\n",
              "       [1.12882612e-04, 4.34862699e-07, 9.99886274e-01, 3.90936066e-07],\n",
              "       [3.46597556e-27, 1.00000000e+00, 2.95721021e-14, 1.84139232e-10],\n",
              "       [9.99505043e-01, 1.35683331e-08, 4.94885957e-04, 7.76801841e-08],\n",
              "       [9.99814689e-01, 5.23219745e-10, 1.85352605e-04, 3.46763218e-09],\n",
              "       [1.86675807e-05, 3.83948573e-05, 9.99928713e-01, 1.42024546e-05],\n",
              "       [1.56636310e-24, 9.99999881e-01, 8.40613343e-11, 8.27138678e-08],\n",
              "       [5.39754656e-21, 1.00000000e+00, 2.17416152e-09, 5.61278413e-10],\n",
              "       [3.60231944e-23, 1.00000000e+00, 2.60593467e-13, 1.30395639e-09],\n",
              "       [1.74815341e-07, 2.30958494e-06, 9.99996543e-01, 9.24652340e-07],\n",
              "       [6.40722341e-20, 1.04692481e-06, 5.09980808e-11, 9.99998927e-01],\n",
              "       [2.87908806e-05, 1.43668794e-05, 9.99954343e-01, 2.49582058e-06],\n",
              "       [1.37445856e-19, 1.00000000e+00, 7.57826690e-10, 3.07193169e-08]],\n",
              "      dtype=float32)"
            ]
          },
          "metadata": {
            "tags": []
          },
          "execution_count": 100
        }
      ]
    },
    {
      "cell_type": "code",
      "metadata": {
        "id": "b-Nn0uDTyi-q",
        "colab_type": "code",
        "colab": {}
      },
      "source": [
        "import numpy as np\n",
        "y_pred = np.argmax(y_pred, axis=1)"
      ],
      "execution_count": 101,
      "outputs": []
    },
    {
      "cell_type": "code",
      "metadata": {
        "id": "UUfGzmdFy26y",
        "colab_type": "code",
        "colab": {
          "base_uri": "https://localhost:8080/",
          "height": 50
        },
        "outputId": "ce3a2e50-2c05-4ff2-d6f6-4545a7f8f4ca"
      },
      "source": [
        "y_pred\n"
      ],
      "execution_count": 102,
      "outputs": [
        {
          "output_type": "execute_result",
          "data": {
            "text/plain": [
              "array([2, 1, 3, 1, 0, 3, 3, 2, 1, 2, 2, 2, 3, 1, 2, 2, 0, 0, 2, 1, 0, 0,\n",
              "       2, 1, 1, 1, 2, 3, 2, 1])"
            ]
          },
          "metadata": {
            "tags": []
          },
          "execution_count": 102
        }
      ]
    },
    {
      "cell_type": "code",
      "metadata": {
        "id": "ggyt26Swy53i",
        "colab_type": "code",
        "colab": {}
      },
      "source": [
        "\n",
        "from tensorflow.keras.models import load_model\n",
        "from tensorflow.keras.preprocessing import image"
      ],
      "execution_count": 103,
      "outputs": []
    },
    {
      "cell_type": "code",
      "metadata": {
        "id": "n6AcEyitzE7R",
        "colab_type": "code",
        "colab": {}
      },
      "source": [
        "model=load_model('model_vgg19.h6')"
      ],
      "execution_count": 104,
      "outputs": []
    },
    {
      "cell_type": "code",
      "metadata": {
        "id": "9i8Ll415zJhL",
        "colab_type": "code",
        "colab": {}
      },
      "source": [
        ""
      ],
      "execution_count": null,
      "outputs": []
    }
  ]
}